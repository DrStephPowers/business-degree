{
 "cells": [
  {
   "cell_type": "markdown",
   "metadata": {},
   "source": [
    "# Teach Your Turtle to Draw "
   ]
  },
  {
   "cell_type": "markdown",
   "metadata": {},
   "source": [
    "Class activity from Callysto (https://callysto.ca/), an educational resource for grades 5 to 12 that uses Python to teach traditional curriculum. Amended here as allowed by the Creative Commons License (https://creativecommons.org/licenses/by/4.0/)."
   ]
  },
  {
   "cell_type": "markdown",
   "metadata": {},
   "source": [
    "Turtle graphics are from Logo, an educational programming language that was designed in 1967 to teach students movement commands by having them draw images on a screen using a relative cursor (the turtle).\n",
    "\n",
    "Source: https://en.wikipedia.org/wiki/Logo_(programming_language)"
   ]
  },
  {
   "cell_type": "code",
   "execution_count": 1,
   "metadata": {},
   "outputs": [
    {
     "data": {
      "text/html": [
       "<img src=\"https://upload.wikimedia.org/wikipedia/commons/3/3d/Turtle-animation.gif\">"
      ],
      "text/plain": [
       "<IPython.core.display.HTML object>"
      ]
     },
     "execution_count": 1,
     "metadata": {},
     "output_type": "execute_result"
    }
   ],
   "source": [
    "from IPython.display import HTML\n",
    "HTML('<img src=\"https://upload.wikimedia.org/wikipedia/commons/3/3d/Turtle-animation.gif\">')"
   ]
  },
  {
   "cell_type": "markdown",
   "metadata": {},
   "source": [
    "## Turtle Commands\n",
    "\n",
    "* For drawing lines or not\n",
    "\n",
    "    t.pendown() or t.penup()\n",
    "    \n",
    "\n",
    "* Speed of your turtle, 1-10 (hint set your speed to 10)\n",
    "\n",
    "    t.speed(integer)\n",
    "\n",
    "\n",
    "* Turn turtle left or right by some degree\n",
    "\n",
    "    t.right(degrees) or t.left(degrees)\n",
    "    \n",
    "\n",
    "* Move your turtle forward or backward (units in pixels)\n",
    "\n",
    "    t.forward(units) or t.backward(units)\n",
    "    \n",
    "\n",
    "* Color of your turtle’s line, e.g. “blue”\n",
    "\n",
    "    t.pencolor(“color”)\n",
    "    \n",
    "\n",
    "* Have turtle draw a piece of a circle of radius r, some number of degrees\n",
    "\n",
    "    t.circle(r, degrees)"
   ]
  },
  {
   "cell_type": "markdown",
   "metadata": {},
   "source": [
    "## Draw a House"
   ]
  },
  {
   "attachments": {
    "turtle-house.png": {
     "image/png": "[encoded data removed]"
    }
   },
   "cell_type": "markdown",
   "metadata": {},
   "source": [
    "![turtle-house.png](attachment:turtle-house.png)"
   ]
  },
  {
   "cell_type": "code",
   "execution_count": 8,
   "metadata": {},
   "outputs": [
    {
     "data": {
      "application/vnd.jupyter.widget-view+json": {
       "model_id": "a40e5ab82cf3488481b80631daaacfb9",
       "version_major": 2,
       "version_minor": 0
      },
      "text/plain": [
       "Turtle()"
      ]
     },
     "metadata": {},
     "output_type": "display_data"
    }
   ],
   "source": [
    "from mobilechelonian import Turtle \n",
    "import math \n",
    "t = Turtle()\n",
    "t.speed(10)\n",
    "\n",
    "### enter your code below, use the turtle commands above such as t.forward(100) and t.right(90)\n",
    "t.forward(100) #hint\n",
    "\n"
   ]
  },
  {
   "cell_type": "markdown",
   "metadata": {},
   "source": [
    "## Now let's try and draw this flower with our Turtle"
   ]
  },
  {
   "cell_type": "markdown",
   "metadata": {},
   "source": [
    "![flower](Images/turtle-flower.png)"
   ]
  },
  {
   "cell_type": "markdown",
   "metadata": {},
   "source": [
    "### Now let's draw a flower with `def` and `for` loops"
   ]
  },
  {
   "cell_type": "code",
   "execution_count": 9,
   "metadata": {
    "scrolled": false
   },
   "outputs": [
    {
     "data": {
      "application/vnd.jupyter.widget-view+json": {
       "model_id": "7a311bf7fefa46e0b2a5503133fc4bf3",
       "version_major": 2,
       "version_minor": 0
      },
      "text/plain": [
       "Turtle()"
      ]
     },
     "metadata": {},
     "output_type": "display_data"
    }
   ],
   "source": [
    "from mobilechelonian import Turtle\n",
    "t = Turtle()\n",
    "t.speed(10)\n",
    "\n",
    "def box(units):\n",
    "    for i in range(4): #enter a value for range\n",
    "        t.forward(units)\n",
    "        t.right(90) #enter a degree value\n",
    "\n",
    "for i in range(18): #360 degrees/20 degrees per iteration = 18 iterations\n",
    "    box(100) #enter a unit value\n",
    "    t.right(20)"
   ]
  },
  {
   "cell_type": "markdown",
   "metadata": {},
   "source": [
    "### Now let's add colours to our flower using a `list`"
   ]
  },
  {
   "cell_type": "code",
   "execution_count": 10,
   "metadata": {},
   "outputs": [
    {
     "data": {
      "text/plain": [
       "'blue'"
      ]
     },
     "execution_count": 10,
     "metadata": {},
     "output_type": "execute_result"
    }
   ],
   "source": [
    "colours = [\"purple\", \"blue\", \"red\"] #this is a python list\n",
    "colours[1] #indexing in python starts at \"0\", so to call \"red\" use \"0\" and so on."
   ]
  },
  {
   "cell_type": "code",
   "execution_count": 11,
   "metadata": {},
   "outputs": [
    {
     "name": "stdout",
     "output_type": "stream",
     "text": [
      "purple 0\n",
      "blue 1\n",
      "red 2\n",
      "purple 0\n",
      "blue 1\n",
      "red 2\n",
      "purple 0\n",
      "blue 1\n",
      "red 2\n",
      "purple 0\n",
      "blue 1\n",
      "red 2\n",
      "purple 0\n",
      "blue 1\n",
      "red 2\n",
      "purple 0\n",
      "blue 1\n",
      "red 2\n"
     ]
    }
   ],
   "source": [
    "#let's print what this looks like.\n",
    "for i in range(18): #remember our loop with 18 iterations?\n",
    "    print(colours[i % 3], i % 3) #using the modulo operator leaves us with the remainder."
   ]
  },
  {
   "cell_type": "code",
   "execution_count": 12,
   "metadata": {},
   "outputs": [
    {
     "data": {
      "application/vnd.jupyter.widget-view+json": {
       "model_id": "23f3d290b42a42f5adda1dd6585adbff",
       "version_major": 2,
       "version_minor": 0
      },
      "text/plain": [
       "Turtle()"
      ]
     },
     "metadata": {},
     "output_type": "display_data"
    }
   ],
   "source": [
    "#now let's put it all together\n",
    "from mobilechelonian import Turtle\n",
    "t = Turtle()\n",
    "t.speed(10)\n",
    "\n",
    "def box(units):\n",
    "    for i in range(4): #enter a value for range\n",
    "        t.forward(units)\n",
    "        t.right(90) #enter a degree value\n",
    "\n",
    "colours = [\"purple\", \"blue\", \"red\"]   \n",
    "for i in range(18):\n",
    "    t.pencolor(colours[i % 3]) #new turtle command\n",
    "    box(100) #enter a unit value\n",
    "    t.right(20)"
   ]
  },
  {
   "cell_type": "markdown",
   "metadata": {},
   "source": [
    "## Bonus Challenge: Try and draw this pointy flower"
   ]
  },
  {
   "cell_type": "markdown",
   "metadata": {},
   "source": [
    "![flower](Images/turtle-pointy-flower.png)"
   ]
  },
  {
   "cell_type": "code",
   "execution_count": null,
   "metadata": {},
   "outputs": [],
   "source": []
  }
 ],
 "metadata": {
  "kernelspec": {
   "display_name": "Python 3",
   "language": "python",
   "name": "python3"
  },
  "language_info": {
   "codemirror_mode": {
    "name": "ipython",
    "version": 3
   },
   "file_extension": ".py",
   "mimetype": "text/x-python",
   "name": "python",
   "nbconvert_exporter": "python",
   "pygments_lexer": "ipython3",
   "version": "3.7.5"
  }
 },
 "nbformat": 4,
 "nbformat_minor": 2
}
